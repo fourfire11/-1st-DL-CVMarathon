{
 "cells": [
  {
   "cell_type": "markdown",
   "metadata": {},
   "source": [
    "# Julia 機器學習：DecisionTree 決策樹\n",
    "\n",
    "## 作業 030：乳癌預測資料集\n",
    "\n",
    "請使用隨機森林模型建立一個分類模型，來預測乳癌資料集中，為良性或是惡性的腫瘤。"
   ]
  },
  {
   "cell_type": "code",
   "execution_count": 1,
   "metadata": {},
   "outputs": [],
   "source": [
    "using DecisionTree, RDatasets, DataFrames, MLDataUtils, Statistics"
   ]
  },
  {
   "cell_type": "markdown",
   "metadata": {},
   "source": [
    "## 讀取資料"
   ]
  },
  {
   "cell_type": "code",
   "execution_count": 2,
   "metadata": {},
   "outputs": [
    {
     "data": {
      "text/html": [
       "<table class=\"data-frame\"><thead><tr><th></th><th>ID</th><th>V1</th><th>V2</th><th>V3</th><th>V4</th><th>V5</th><th>V6</th><th>V7</th><th>V8</th><th>V9</th><th>Class</th></tr><tr><th></th><th>String</th><th>Int32</th><th>Int32</th><th>Int32</th><th>Int32</th><th>Int32</th><th>Int32⍰</th><th>Int32</th><th>Int32</th><th>Int32</th><th>Categorical…</th></tr></thead><tbody><p>699 rows × 11 columns</p><tr><th>1</th><td>1000025</td><td>5</td><td>1</td><td>1</td><td>1</td><td>2</td><td>1</td><td>3</td><td>1</td><td>1</td><td>benign</td></tr><tr><th>2</th><td>1002945</td><td>5</td><td>4</td><td>4</td><td>5</td><td>7</td><td>10</td><td>3</td><td>2</td><td>1</td><td>benign</td></tr><tr><th>3</th><td>1015425</td><td>3</td><td>1</td><td>1</td><td>1</td><td>2</td><td>2</td><td>3</td><td>1</td><td>1</td><td>benign</td></tr><tr><th>4</th><td>1016277</td><td>6</td><td>8</td><td>8</td><td>1</td><td>3</td><td>4</td><td>3</td><td>7</td><td>1</td><td>benign</td></tr><tr><th>5</th><td>1017023</td><td>4</td><td>1</td><td>1</td><td>3</td><td>2</td><td>1</td><td>3</td><td>1</td><td>1</td><td>benign</td></tr><tr><th>6</th><td>1017122</td><td>8</td><td>10</td><td>10</td><td>8</td><td>7</td><td>10</td><td>9</td><td>7</td><td>1</td><td>malignant</td></tr><tr><th>7</th><td>1018099</td><td>1</td><td>1</td><td>1</td><td>1</td><td>2</td><td>10</td><td>3</td><td>1</td><td>1</td><td>benign</td></tr><tr><th>8</th><td>1018561</td><td>2</td><td>1</td><td>2</td><td>1</td><td>2</td><td>1</td><td>3</td><td>1</td><td>1</td><td>benign</td></tr><tr><th>9</th><td>1033078</td><td>2</td><td>1</td><td>1</td><td>1</td><td>2</td><td>1</td><td>1</td><td>1</td><td>5</td><td>benign</td></tr><tr><th>10</th><td>1033078</td><td>4</td><td>2</td><td>1</td><td>1</td><td>2</td><td>1</td><td>2</td><td>1</td><td>1</td><td>benign</td></tr><tr><th>11</th><td>1035283</td><td>1</td><td>1</td><td>1</td><td>1</td><td>1</td><td>1</td><td>3</td><td>1</td><td>1</td><td>benign</td></tr><tr><th>12</th><td>1036172</td><td>2</td><td>1</td><td>1</td><td>1</td><td>2</td><td>1</td><td>2</td><td>1</td><td>1</td><td>benign</td></tr><tr><th>13</th><td>1041801</td><td>5</td><td>3</td><td>3</td><td>3</td><td>2</td><td>3</td><td>4</td><td>4</td><td>1</td><td>malignant</td></tr><tr><th>14</th><td>1043999</td><td>1</td><td>1</td><td>1</td><td>1</td><td>2</td><td>3</td><td>3</td><td>1</td><td>1</td><td>benign</td></tr><tr><th>15</th><td>1044572</td><td>8</td><td>7</td><td>5</td><td>10</td><td>7</td><td>9</td><td>5</td><td>5</td><td>4</td><td>malignant</td></tr><tr><th>16</th><td>1047630</td><td>7</td><td>4</td><td>6</td><td>4</td><td>6</td><td>1</td><td>4</td><td>3</td><td>1</td><td>malignant</td></tr><tr><th>17</th><td>1048672</td><td>4</td><td>1</td><td>1</td><td>1</td><td>2</td><td>1</td><td>2</td><td>1</td><td>1</td><td>benign</td></tr><tr><th>18</th><td>1049815</td><td>4</td><td>1</td><td>1</td><td>1</td><td>2</td><td>1</td><td>3</td><td>1</td><td>1</td><td>benign</td></tr><tr><th>19</th><td>1050670</td><td>10</td><td>7</td><td>7</td><td>6</td><td>4</td><td>10</td><td>4</td><td>1</td><td>2</td><td>malignant</td></tr><tr><th>20</th><td>1050718</td><td>6</td><td>1</td><td>1</td><td>1</td><td>2</td><td>1</td><td>3</td><td>1</td><td>1</td><td>benign</td></tr><tr><th>21</th><td>1054590</td><td>7</td><td>3</td><td>2</td><td>10</td><td>5</td><td>10</td><td>5</td><td>4</td><td>4</td><td>malignant</td></tr><tr><th>22</th><td>1054593</td><td>10</td><td>5</td><td>5</td><td>3</td><td>6</td><td>7</td><td>7</td><td>10</td><td>1</td><td>malignant</td></tr><tr><th>23</th><td>1056784</td><td>3</td><td>1</td><td>1</td><td>1</td><td>2</td><td>1</td><td>2</td><td>1</td><td>1</td><td>benign</td></tr><tr><th>24</th><td>1057013</td><td>8</td><td>4</td><td>5</td><td>1</td><td>2</td><td>missing</td><td>7</td><td>3</td><td>1</td><td>malignant</td></tr><tr><th>25</th><td>1059552</td><td>1</td><td>1</td><td>1</td><td>1</td><td>2</td><td>1</td><td>3</td><td>1</td><td>1</td><td>benign</td></tr><tr><th>26</th><td>1065726</td><td>5</td><td>2</td><td>3</td><td>4</td><td>2</td><td>7</td><td>3</td><td>6</td><td>1</td><td>malignant</td></tr><tr><th>27</th><td>1066373</td><td>3</td><td>2</td><td>1</td><td>1</td><td>1</td><td>1</td><td>2</td><td>1</td><td>1</td><td>benign</td></tr><tr><th>28</th><td>1066979</td><td>5</td><td>1</td><td>1</td><td>1</td><td>2</td><td>1</td><td>2</td><td>1</td><td>1</td><td>benign</td></tr><tr><th>29</th><td>1067444</td><td>2</td><td>1</td><td>1</td><td>1</td><td>2</td><td>1</td><td>2</td><td>1</td><td>1</td><td>benign</td></tr><tr><th>30</th><td>1070935</td><td>1</td><td>1</td><td>3</td><td>1</td><td>2</td><td>1</td><td>1</td><td>1</td><td>1</td><td>benign</td></tr><tr><th>&vellip;</th><td>&vellip;</td><td>&vellip;</td><td>&vellip;</td><td>&vellip;</td><td>&vellip;</td><td>&vellip;</td><td>&vellip;</td><td>&vellip;</td><td>&vellip;</td><td>&vellip;</td><td>&vellip;</td></tr></tbody></table>"
      ],
      "text/latex": [
       "\\begin{tabular}{r|ccccccccccc}\n",
       "\t& ID & V1 & V2 & V3 & V4 & V5 & V6 & V7 & V8 & V9 & Class\\\\\n",
       "\t\\hline\n",
       "\t& String & Int32 & Int32 & Int32 & Int32 & Int32 & Int32⍰ & Int32 & Int32 & Int32 & Categorical…\\\\\n",
       "\t\\hline\n",
       "\t1 & 1000025 & 5 & 1 & 1 & 1 & 2 & 1 & 3 & 1 & 1 & benign \\\\\n",
       "\t2 & 1002945 & 5 & 4 & 4 & 5 & 7 & 10 & 3 & 2 & 1 & benign \\\\\n",
       "\t3 & 1015425 & 3 & 1 & 1 & 1 & 2 & 2 & 3 & 1 & 1 & benign \\\\\n",
       "\t4 & 1016277 & 6 & 8 & 8 & 1 & 3 & 4 & 3 & 7 & 1 & benign \\\\\n",
       "\t5 & 1017023 & 4 & 1 & 1 & 3 & 2 & 1 & 3 & 1 & 1 & benign \\\\\n",
       "\t6 & 1017122 & 8 & 10 & 10 & 8 & 7 & 10 & 9 & 7 & 1 & malignant \\\\\n",
       "\t7 & 1018099 & 1 & 1 & 1 & 1 & 2 & 10 & 3 & 1 & 1 & benign \\\\\n",
       "\t8 & 1018561 & 2 & 1 & 2 & 1 & 2 & 1 & 3 & 1 & 1 & benign \\\\\n",
       "\t9 & 1033078 & 2 & 1 & 1 & 1 & 2 & 1 & 1 & 1 & 5 & benign \\\\\n",
       "\t10 & 1033078 & 4 & 2 & 1 & 1 & 2 & 1 & 2 & 1 & 1 & benign \\\\\n",
       "\t11 & 1035283 & 1 & 1 & 1 & 1 & 1 & 1 & 3 & 1 & 1 & benign \\\\\n",
       "\t12 & 1036172 & 2 & 1 & 1 & 1 & 2 & 1 & 2 & 1 & 1 & benign \\\\\n",
       "\t13 & 1041801 & 5 & 3 & 3 & 3 & 2 & 3 & 4 & 4 & 1 & malignant \\\\\n",
       "\t14 & 1043999 & 1 & 1 & 1 & 1 & 2 & 3 & 3 & 1 & 1 & benign \\\\\n",
       "\t15 & 1044572 & 8 & 7 & 5 & 10 & 7 & 9 & 5 & 5 & 4 & malignant \\\\\n",
       "\t16 & 1047630 & 7 & 4 & 6 & 4 & 6 & 1 & 4 & 3 & 1 & malignant \\\\\n",
       "\t17 & 1048672 & 4 & 1 & 1 & 1 & 2 & 1 & 2 & 1 & 1 & benign \\\\\n",
       "\t18 & 1049815 & 4 & 1 & 1 & 1 & 2 & 1 & 3 & 1 & 1 & benign \\\\\n",
       "\t19 & 1050670 & 10 & 7 & 7 & 6 & 4 & 10 & 4 & 1 & 2 & malignant \\\\\n",
       "\t20 & 1050718 & 6 & 1 & 1 & 1 & 2 & 1 & 3 & 1 & 1 & benign \\\\\n",
       "\t21 & 1054590 & 7 & 3 & 2 & 10 & 5 & 10 & 5 & 4 & 4 & malignant \\\\\n",
       "\t22 & 1054593 & 10 & 5 & 5 & 3 & 6 & 7 & 7 & 10 & 1 & malignant \\\\\n",
       "\t23 & 1056784 & 3 & 1 & 1 & 1 & 2 & 1 & 2 & 1 & 1 & benign \\\\\n",
       "\t24 & 1057013 & 8 & 4 & 5 & 1 & 2 &  & 7 & 3 & 1 & malignant \\\\\n",
       "\t25 & 1059552 & 1 & 1 & 1 & 1 & 2 & 1 & 3 & 1 & 1 & benign \\\\\n",
       "\t26 & 1065726 & 5 & 2 & 3 & 4 & 2 & 7 & 3 & 6 & 1 & malignant \\\\\n",
       "\t27 & 1066373 & 3 & 2 & 1 & 1 & 1 & 1 & 2 & 1 & 1 & benign \\\\\n",
       "\t28 & 1066979 & 5 & 1 & 1 & 1 & 2 & 1 & 2 & 1 & 1 & benign \\\\\n",
       "\t29 & 1067444 & 2 & 1 & 1 & 1 & 2 & 1 & 2 & 1 & 1 & benign \\\\\n",
       "\t30 & 1070935 & 1 & 1 & 3 & 1 & 2 & 1 & 1 & 1 & 1 & benign \\\\\n",
       "\t$\\dots$ & $\\dots$ & $\\dots$ & $\\dots$ & $\\dots$ & $\\dots$ & $\\dots$ & $\\dots$ & $\\dots$ & $\\dots$ & $\\dots$ & $\\dots$ \\\\\n",
       "\\end{tabular}\n"
      ],
      "text/plain": [
       "699×11 DataFrame. Omitted printing of 3 columns\n",
       "│ Row │ ID      │ V1    │ V2    │ V3    │ V4    │ V5    │ V6     │ V7    │\n",
       "│     │ \u001b[90mString\u001b[39m  │ \u001b[90mInt32\u001b[39m │ \u001b[90mInt32\u001b[39m │ \u001b[90mInt32\u001b[39m │ \u001b[90mInt32\u001b[39m │ \u001b[90mInt32\u001b[39m │ \u001b[90mInt32⍰\u001b[39m │ \u001b[90mInt32\u001b[39m │\n",
       "├─────┼─────────┼───────┼───────┼───────┼───────┼───────┼────────┼───────┤\n",
       "│ 1   │ 1000025 │ 5     │ 1     │ 1     │ 1     │ 2     │ 1      │ 3     │\n",
       "│ 2   │ 1002945 │ 5     │ 4     │ 4     │ 5     │ 7     │ 10     │ 3     │\n",
       "│ 3   │ 1015425 │ 3     │ 1     │ 1     │ 1     │ 2     │ 2      │ 3     │\n",
       "│ 4   │ 1016277 │ 6     │ 8     │ 8     │ 1     │ 3     │ 4      │ 3     │\n",
       "│ 5   │ 1017023 │ 4     │ 1     │ 1     │ 3     │ 2     │ 1      │ 3     │\n",
       "│ 6   │ 1017122 │ 8     │ 10    │ 10    │ 8     │ 7     │ 10     │ 9     │\n",
       "│ 7   │ 1018099 │ 1     │ 1     │ 1     │ 1     │ 2     │ 10     │ 3     │\n",
       "│ 8   │ 1018561 │ 2     │ 1     │ 2     │ 1     │ 2     │ 1      │ 3     │\n",
       "│ 9   │ 1033078 │ 2     │ 1     │ 1     │ 1     │ 2     │ 1      │ 1     │\n",
       "│ 10  │ 1033078 │ 4     │ 2     │ 1     │ 1     │ 2     │ 1      │ 2     │\n",
       "⋮\n",
       "│ 689 │ 603148  │ 4     │ 1     │ 1     │ 1     │ 2     │ 1      │ 1     │\n",
       "│ 690 │ 654546  │ 1     │ 1     │ 1     │ 1     │ 2     │ 1      │ 1     │\n",
       "│ 691 │ 654546  │ 1     │ 1     │ 1     │ 3     │ 2     │ 1      │ 1     │\n",
       "│ 692 │ 695091  │ 5     │ 10    │ 10    │ 5     │ 4     │ 5      │ 4     │\n",
       "│ 693 │ 714039  │ 3     │ 1     │ 1     │ 1     │ 2     │ 1      │ 1     │\n",
       "│ 694 │ 763235  │ 3     │ 1     │ 1     │ 1     │ 2     │ 1      │ 2     │\n",
       "│ 695 │ 776715  │ 3     │ 1     │ 1     │ 1     │ 3     │ 2      │ 1     │\n",
       "│ 696 │ 841769  │ 2     │ 1     │ 1     │ 1     │ 2     │ 1      │ 1     │\n",
       "│ 697 │ 888820  │ 5     │ 10    │ 10    │ 3     │ 7     │ 3      │ 8     │\n",
       "│ 698 │ 897471  │ 4     │ 8     │ 6     │ 4     │ 3     │ 4      │ 10    │\n",
       "│ 699 │ 897471  │ 4     │ 8     │ 8     │ 5     │ 4     │ 5      │ 10    │"
      ]
     },
     "execution_count": 2,
     "metadata": {},
     "output_type": "execute_result"
    }
   ],
   "source": [
    "biopsy = dataset(\"MASS\", \"biopsy\")"
   ]
  },
  {
   "cell_type": "markdown",
   "metadata": {},
   "source": [
    "## 處理遺失值"
   ]
  },
  {
   "cell_type": "code",
   "execution_count": 3,
   "metadata": {},
   "outputs": [
    {
     "data": {
      "text/html": [
       "<table class=\"data-frame\"><thead><tr><th></th><th>ID</th><th>V1</th><th>V2</th><th>V3</th><th>V4</th><th>V5</th><th>V6</th><th>V7</th><th>V8</th><th>V9</th><th>Class</th></tr><tr><th></th><th>String</th><th>Int32</th><th>Int32</th><th>Int32</th><th>Int32</th><th>Int32</th><th>Int32</th><th>Int32</th><th>Int32</th><th>Int32</th><th>Categorical…</th></tr></thead><tbody><p>683 rows × 11 columns</p><tr><th>1</th><td>1000025</td><td>5</td><td>1</td><td>1</td><td>1</td><td>2</td><td>1</td><td>3</td><td>1</td><td>1</td><td>benign</td></tr><tr><th>2</th><td>1002945</td><td>5</td><td>4</td><td>4</td><td>5</td><td>7</td><td>10</td><td>3</td><td>2</td><td>1</td><td>benign</td></tr><tr><th>3</th><td>1015425</td><td>3</td><td>1</td><td>1</td><td>1</td><td>2</td><td>2</td><td>3</td><td>1</td><td>1</td><td>benign</td></tr><tr><th>4</th><td>1016277</td><td>6</td><td>8</td><td>8</td><td>1</td><td>3</td><td>4</td><td>3</td><td>7</td><td>1</td><td>benign</td></tr><tr><th>5</th><td>1017023</td><td>4</td><td>1</td><td>1</td><td>3</td><td>2</td><td>1</td><td>3</td><td>1</td><td>1</td><td>benign</td></tr><tr><th>6</th><td>1017122</td><td>8</td><td>10</td><td>10</td><td>8</td><td>7</td><td>10</td><td>9</td><td>7</td><td>1</td><td>malignant</td></tr><tr><th>7</th><td>1018099</td><td>1</td><td>1</td><td>1</td><td>1</td><td>2</td><td>10</td><td>3</td><td>1</td><td>1</td><td>benign</td></tr><tr><th>8</th><td>1018561</td><td>2</td><td>1</td><td>2</td><td>1</td><td>2</td><td>1</td><td>3</td><td>1</td><td>1</td><td>benign</td></tr><tr><th>9</th><td>1033078</td><td>2</td><td>1</td><td>1</td><td>1</td><td>2</td><td>1</td><td>1</td><td>1</td><td>5</td><td>benign</td></tr><tr><th>10</th><td>1033078</td><td>4</td><td>2</td><td>1</td><td>1</td><td>2</td><td>1</td><td>2</td><td>1</td><td>1</td><td>benign</td></tr><tr><th>11</th><td>1035283</td><td>1</td><td>1</td><td>1</td><td>1</td><td>1</td><td>1</td><td>3</td><td>1</td><td>1</td><td>benign</td></tr><tr><th>12</th><td>1036172</td><td>2</td><td>1</td><td>1</td><td>1</td><td>2</td><td>1</td><td>2</td><td>1</td><td>1</td><td>benign</td></tr><tr><th>13</th><td>1041801</td><td>5</td><td>3</td><td>3</td><td>3</td><td>2</td><td>3</td><td>4</td><td>4</td><td>1</td><td>malignant</td></tr><tr><th>14</th><td>1043999</td><td>1</td><td>1</td><td>1</td><td>1</td><td>2</td><td>3</td><td>3</td><td>1</td><td>1</td><td>benign</td></tr><tr><th>15</th><td>1044572</td><td>8</td><td>7</td><td>5</td><td>10</td><td>7</td><td>9</td><td>5</td><td>5</td><td>4</td><td>malignant</td></tr><tr><th>16</th><td>1047630</td><td>7</td><td>4</td><td>6</td><td>4</td><td>6</td><td>1</td><td>4</td><td>3</td><td>1</td><td>malignant</td></tr><tr><th>17</th><td>1048672</td><td>4</td><td>1</td><td>1</td><td>1</td><td>2</td><td>1</td><td>2</td><td>1</td><td>1</td><td>benign</td></tr><tr><th>18</th><td>1049815</td><td>4</td><td>1</td><td>1</td><td>1</td><td>2</td><td>1</td><td>3</td><td>1</td><td>1</td><td>benign</td></tr><tr><th>19</th><td>1050670</td><td>10</td><td>7</td><td>7</td><td>6</td><td>4</td><td>10</td><td>4</td><td>1</td><td>2</td><td>malignant</td></tr><tr><th>20</th><td>1050718</td><td>6</td><td>1</td><td>1</td><td>1</td><td>2</td><td>1</td><td>3</td><td>1</td><td>1</td><td>benign</td></tr><tr><th>21</th><td>1054590</td><td>7</td><td>3</td><td>2</td><td>10</td><td>5</td><td>10</td><td>5</td><td>4</td><td>4</td><td>malignant</td></tr><tr><th>22</th><td>1054593</td><td>10</td><td>5</td><td>5</td><td>3</td><td>6</td><td>7</td><td>7</td><td>10</td><td>1</td><td>malignant</td></tr><tr><th>23</th><td>1056784</td><td>3</td><td>1</td><td>1</td><td>1</td><td>2</td><td>1</td><td>2</td><td>1</td><td>1</td><td>benign</td></tr><tr><th>24</th><td>1059552</td><td>1</td><td>1</td><td>1</td><td>1</td><td>2</td><td>1</td><td>3</td><td>1</td><td>1</td><td>benign</td></tr><tr><th>25</th><td>1065726</td><td>5</td><td>2</td><td>3</td><td>4</td><td>2</td><td>7</td><td>3</td><td>6</td><td>1</td><td>malignant</td></tr><tr><th>26</th><td>1066373</td><td>3</td><td>2</td><td>1</td><td>1</td><td>1</td><td>1</td><td>2</td><td>1</td><td>1</td><td>benign</td></tr><tr><th>27</th><td>1066979</td><td>5</td><td>1</td><td>1</td><td>1</td><td>2</td><td>1</td><td>2</td><td>1</td><td>1</td><td>benign</td></tr><tr><th>28</th><td>1067444</td><td>2</td><td>1</td><td>1</td><td>1</td><td>2</td><td>1</td><td>2</td><td>1</td><td>1</td><td>benign</td></tr><tr><th>29</th><td>1070935</td><td>1</td><td>1</td><td>3</td><td>1</td><td>2</td><td>1</td><td>1</td><td>1</td><td>1</td><td>benign</td></tr><tr><th>30</th><td>1070935</td><td>3</td><td>1</td><td>1</td><td>1</td><td>1</td><td>1</td><td>2</td><td>1</td><td>1</td><td>benign</td></tr><tr><th>&vellip;</th><td>&vellip;</td><td>&vellip;</td><td>&vellip;</td><td>&vellip;</td><td>&vellip;</td><td>&vellip;</td><td>&vellip;</td><td>&vellip;</td><td>&vellip;</td><td>&vellip;</td><td>&vellip;</td></tr></tbody></table>"
      ],
      "text/latex": [
       "\\begin{tabular}{r|ccccccccccc}\n",
       "\t& ID & V1 & V2 & V3 & V4 & V5 & V6 & V7 & V8 & V9 & Class\\\\\n",
       "\t\\hline\n",
       "\t& String & Int32 & Int32 & Int32 & Int32 & Int32 & Int32 & Int32 & Int32 & Int32 & Categorical…\\\\\n",
       "\t\\hline\n",
       "\t1 & 1000025 & 5 & 1 & 1 & 1 & 2 & 1 & 3 & 1 & 1 & benign \\\\\n",
       "\t2 & 1002945 & 5 & 4 & 4 & 5 & 7 & 10 & 3 & 2 & 1 & benign \\\\\n",
       "\t3 & 1015425 & 3 & 1 & 1 & 1 & 2 & 2 & 3 & 1 & 1 & benign \\\\\n",
       "\t4 & 1016277 & 6 & 8 & 8 & 1 & 3 & 4 & 3 & 7 & 1 & benign \\\\\n",
       "\t5 & 1017023 & 4 & 1 & 1 & 3 & 2 & 1 & 3 & 1 & 1 & benign \\\\\n",
       "\t6 & 1017122 & 8 & 10 & 10 & 8 & 7 & 10 & 9 & 7 & 1 & malignant \\\\\n",
       "\t7 & 1018099 & 1 & 1 & 1 & 1 & 2 & 10 & 3 & 1 & 1 & benign \\\\\n",
       "\t8 & 1018561 & 2 & 1 & 2 & 1 & 2 & 1 & 3 & 1 & 1 & benign \\\\\n",
       "\t9 & 1033078 & 2 & 1 & 1 & 1 & 2 & 1 & 1 & 1 & 5 & benign \\\\\n",
       "\t10 & 1033078 & 4 & 2 & 1 & 1 & 2 & 1 & 2 & 1 & 1 & benign \\\\\n",
       "\t11 & 1035283 & 1 & 1 & 1 & 1 & 1 & 1 & 3 & 1 & 1 & benign \\\\\n",
       "\t12 & 1036172 & 2 & 1 & 1 & 1 & 2 & 1 & 2 & 1 & 1 & benign \\\\\n",
       "\t13 & 1041801 & 5 & 3 & 3 & 3 & 2 & 3 & 4 & 4 & 1 & malignant \\\\\n",
       "\t14 & 1043999 & 1 & 1 & 1 & 1 & 2 & 3 & 3 & 1 & 1 & benign \\\\\n",
       "\t15 & 1044572 & 8 & 7 & 5 & 10 & 7 & 9 & 5 & 5 & 4 & malignant \\\\\n",
       "\t16 & 1047630 & 7 & 4 & 6 & 4 & 6 & 1 & 4 & 3 & 1 & malignant \\\\\n",
       "\t17 & 1048672 & 4 & 1 & 1 & 1 & 2 & 1 & 2 & 1 & 1 & benign \\\\\n",
       "\t18 & 1049815 & 4 & 1 & 1 & 1 & 2 & 1 & 3 & 1 & 1 & benign \\\\\n",
       "\t19 & 1050670 & 10 & 7 & 7 & 6 & 4 & 10 & 4 & 1 & 2 & malignant \\\\\n",
       "\t20 & 1050718 & 6 & 1 & 1 & 1 & 2 & 1 & 3 & 1 & 1 & benign \\\\\n",
       "\t21 & 1054590 & 7 & 3 & 2 & 10 & 5 & 10 & 5 & 4 & 4 & malignant \\\\\n",
       "\t22 & 1054593 & 10 & 5 & 5 & 3 & 6 & 7 & 7 & 10 & 1 & malignant \\\\\n",
       "\t23 & 1056784 & 3 & 1 & 1 & 1 & 2 & 1 & 2 & 1 & 1 & benign \\\\\n",
       "\t24 & 1059552 & 1 & 1 & 1 & 1 & 2 & 1 & 3 & 1 & 1 & benign \\\\\n",
       "\t25 & 1065726 & 5 & 2 & 3 & 4 & 2 & 7 & 3 & 6 & 1 & malignant \\\\\n",
       "\t26 & 1066373 & 3 & 2 & 1 & 1 & 1 & 1 & 2 & 1 & 1 & benign \\\\\n",
       "\t27 & 1066979 & 5 & 1 & 1 & 1 & 2 & 1 & 2 & 1 & 1 & benign \\\\\n",
       "\t28 & 1067444 & 2 & 1 & 1 & 1 & 2 & 1 & 2 & 1 & 1 & benign \\\\\n",
       "\t29 & 1070935 & 1 & 1 & 3 & 1 & 2 & 1 & 1 & 1 & 1 & benign \\\\\n",
       "\t30 & 1070935 & 3 & 1 & 1 & 1 & 1 & 1 & 2 & 1 & 1 & benign \\\\\n",
       "\t$\\dots$ & $\\dots$ & $\\dots$ & $\\dots$ & $\\dots$ & $\\dots$ & $\\dots$ & $\\dots$ & $\\dots$ & $\\dots$ & $\\dots$ & $\\dots$ \\\\\n",
       "\\end{tabular}\n"
      ],
      "text/plain": [
       "683×11 DataFrame. Omitted printing of 3 columns\n",
       "│ Row │ ID      │ V1    │ V2    │ V3    │ V4    │ V5    │ V6    │ V7    │\n",
       "│     │ \u001b[90mString\u001b[39m  │ \u001b[90mInt32\u001b[39m │ \u001b[90mInt32\u001b[39m │ \u001b[90mInt32\u001b[39m │ \u001b[90mInt32\u001b[39m │ \u001b[90mInt32\u001b[39m │ \u001b[90mInt32\u001b[39m │ \u001b[90mInt32\u001b[39m │\n",
       "├─────┼─────────┼───────┼───────┼───────┼───────┼───────┼───────┼───────┤\n",
       "│ 1   │ 1000025 │ 5     │ 1     │ 1     │ 1     │ 2     │ 1     │ 3     │\n",
       "│ 2   │ 1002945 │ 5     │ 4     │ 4     │ 5     │ 7     │ 10    │ 3     │\n",
       "│ 3   │ 1015425 │ 3     │ 1     │ 1     │ 1     │ 2     │ 2     │ 3     │\n",
       "│ 4   │ 1016277 │ 6     │ 8     │ 8     │ 1     │ 3     │ 4     │ 3     │\n",
       "│ 5   │ 1017023 │ 4     │ 1     │ 1     │ 3     │ 2     │ 1     │ 3     │\n",
       "│ 6   │ 1017122 │ 8     │ 10    │ 10    │ 8     │ 7     │ 10    │ 9     │\n",
       "│ 7   │ 1018099 │ 1     │ 1     │ 1     │ 1     │ 2     │ 10    │ 3     │\n",
       "│ 8   │ 1018561 │ 2     │ 1     │ 2     │ 1     │ 2     │ 1     │ 3     │\n",
       "│ 9   │ 1033078 │ 2     │ 1     │ 1     │ 1     │ 2     │ 1     │ 1     │\n",
       "│ 10  │ 1033078 │ 4     │ 2     │ 1     │ 1     │ 2     │ 1     │ 2     │\n",
       "⋮\n",
       "│ 673 │ 603148  │ 4     │ 1     │ 1     │ 1     │ 2     │ 1     │ 1     │\n",
       "│ 674 │ 654546  │ 1     │ 1     │ 1     │ 1     │ 2     │ 1     │ 1     │\n",
       "│ 675 │ 654546  │ 1     │ 1     │ 1     │ 3     │ 2     │ 1     │ 1     │\n",
       "│ 676 │ 695091  │ 5     │ 10    │ 10    │ 5     │ 4     │ 5     │ 4     │\n",
       "│ 677 │ 714039  │ 3     │ 1     │ 1     │ 1     │ 2     │ 1     │ 1     │\n",
       "│ 678 │ 763235  │ 3     │ 1     │ 1     │ 1     │ 2     │ 1     │ 2     │\n",
       "│ 679 │ 776715  │ 3     │ 1     │ 1     │ 1     │ 3     │ 2     │ 1     │\n",
       "│ 680 │ 841769  │ 2     │ 1     │ 1     │ 1     │ 2     │ 1     │ 1     │\n",
       "│ 681 │ 888820  │ 5     │ 10    │ 10    │ 3     │ 7     │ 3     │ 8     │\n",
       "│ 682 │ 897471  │ 4     │ 8     │ 6     │ 4     │ 3     │ 4     │ 10    │\n",
       "│ 683 │ 897471  │ 4     │ 8     │ 8     │ 5     │ 4     │ 5     │ 10    │"
      ]
     },
     "execution_count": 3,
     "metadata": {},
     "output_type": "execute_result"
    }
   ],
   "source": [
    "dropmissing!(biopsy)"
   ]
  },
  {
   "cell_type": "markdown",
   "metadata": {},
   "source": [
    "## 分割train data和test data"
   ]
  },
  {
   "cell_type": "code",
   "execution_count": 5,
   "metadata": {},
   "outputs": [],
   "source": [
    "indecies = MLDataUtils.shuffleobs(collect(1:nrow(biopsy))) #將原資料的順序洗牌\n",
    "train_ind, test_ind = MLDataUtils.splitobs(indecies, at = 0.8); #0.8的資料當訓練資料，0.2的資料當測試資料"
   ]
  },
  {
   "cell_type": "code",
   "execution_count": 33,
   "metadata": {},
   "outputs": [
    {
     "data": {
      "text/html": [
       "<table class=\"data-frame\"><thead><tr><th></th><th>ID</th><th>V1</th><th>V2</th><th>V3</th><th>V4</th><th>V5</th><th>V6</th><th>V7</th><th>V8</th><th>V9</th><th>Class</th></tr><tr><th></th><th>String</th><th>Int32</th><th>Int32</th><th>Int32</th><th>Int32</th><th>Int32</th><th>Int32</th><th>Int32</th><th>Int32</th><th>Int32</th><th>Categorical…</th></tr></thead><tbody><p>137 rows × 11 columns</p><tr><th>1</th><td>657753</td><td>3</td><td>1</td><td>1</td><td>4</td><td>3</td><td>1</td><td>2</td><td>2</td><td>1</td><td>benign</td></tr><tr><th>2</th><td>167528</td><td>4</td><td>1</td><td>1</td><td>1</td><td>2</td><td>1</td><td>3</td><td>6</td><td>1</td><td>benign</td></tr><tr><th>3</th><td>764974</td><td>5</td><td>1</td><td>1</td><td>1</td><td>2</td><td>1</td><td>3</td><td>1</td><td>2</td><td>benign</td></tr><tr><th>4</th><td>1225799</td><td>10</td><td>6</td><td>4</td><td>3</td><td>10</td><td>10</td><td>9</td><td>10</td><td>1</td><td>malignant</td></tr><tr><th>5</th><td>1344449</td><td>1</td><td>1</td><td>1</td><td>1</td><td>1</td><td>1</td><td>2</td><td>1</td><td>1</td><td>benign</td></tr><tr><th>6</th><td>1033078</td><td>4</td><td>2</td><td>1</td><td>1</td><td>2</td><td>1</td><td>2</td><td>1</td><td>1</td><td>benign</td></tr><tr><th>7</th><td>837480</td><td>7</td><td>4</td><td>4</td><td>3</td><td>4</td><td>10</td><td>6</td><td>9</td><td>1</td><td>malignant</td></tr><tr><th>8</th><td>476903</td><td>10</td><td>5</td><td>7</td><td>3</td><td>3</td><td>7</td><td>3</td><td>3</td><td>8</td><td>malignant</td></tr><tr><th>9</th><td>1201870</td><td>4</td><td>1</td><td>1</td><td>3</td><td>1</td><td>1</td><td>2</td><td>1</td><td>1</td><td>benign</td></tr><tr><th>10</th><td>1110102</td><td>10</td><td>3</td><td>6</td><td>2</td><td>3</td><td>5</td><td>4</td><td>10</td><td>2</td><td>malignant</td></tr><tr><th>11</th><td>824249</td><td>1</td><td>1</td><td>1</td><td>1</td><td>2</td><td>1</td><td>3</td><td>1</td><td>1</td><td>benign</td></tr><tr><th>12</th><td>1223003</td><td>5</td><td>3</td><td>3</td><td>1</td><td>2</td><td>1</td><td>2</td><td>1</td><td>1</td><td>benign</td></tr><tr><th>13</th><td>1105524</td><td>1</td><td>1</td><td>1</td><td>1</td><td>2</td><td>1</td><td>2</td><td>1</td><td>1</td><td>benign</td></tr><tr><th>14</th><td>1147044</td><td>3</td><td>1</td><td>1</td><td>1</td><td>2</td><td>2</td><td>7</td><td>1</td><td>1</td><td>benign</td></tr><tr><th>15</th><td>733639</td><td>3</td><td>1</td><td>1</td><td>1</td><td>2</td><td>1</td><td>3</td><td>1</td><td>1</td><td>benign</td></tr><tr><th>16</th><td>1344121</td><td>8</td><td>10</td><td>4</td><td>4</td><td>8</td><td>10</td><td>8</td><td>2</td><td>1</td><td>malignant</td></tr><tr><th>17</th><td>1222464</td><td>6</td><td>10</td><td>10</td><td>10</td><td>4</td><td>10</td><td>7</td><td>10</td><td>1</td><td>malignant</td></tr><tr><th>18</th><td>1204898</td><td>6</td><td>1</td><td>1</td><td>1</td><td>2</td><td>1</td><td>3</td><td>1</td><td>1</td><td>benign</td></tr><tr><th>19</th><td>608157</td><td>10</td><td>4</td><td>3</td><td>10</td><td>4</td><td>10</td><td>10</td><td>1</td><td>1</td><td>malignant</td></tr><tr><th>20</th><td>1205579</td><td>8</td><td>7</td><td>6</td><td>4</td><td>4</td><td>10</td><td>5</td><td>1</td><td>1</td><td>malignant</td></tr><tr><th>21</th><td>640712</td><td>1</td><td>1</td><td>1</td><td>1</td><td>2</td><td>1</td><td>2</td><td>1</td><td>1</td><td>benign</td></tr><tr><th>22</th><td>1155546</td><td>2</td><td>1</td><td>1</td><td>2</td><td>3</td><td>1</td><td>2</td><td>1</td><td>1</td><td>benign</td></tr><tr><th>23</th><td>1106829</td><td>7</td><td>8</td><td>7</td><td>2</td><td>4</td><td>8</td><td>3</td><td>8</td><td>2</td><td>malignant</td></tr><tr><th>24</th><td>1211594</td><td>3</td><td>1</td><td>1</td><td>1</td><td>1</td><td>1</td><td>2</td><td>1</td><td>1</td><td>benign</td></tr><tr><th>25</th><td>1257815</td><td>5</td><td>1</td><td>3</td><td>1</td><td>2</td><td>1</td><td>2</td><td>1</td><td>1</td><td>benign</td></tr><tr><th>26</th><td>1106095</td><td>4</td><td>1</td><td>1</td><td>3</td><td>2</td><td>1</td><td>3</td><td>1</td><td>1</td><td>benign</td></tr><tr><th>27</th><td>1293439</td><td>6</td><td>9</td><td>7</td><td>5</td><td>5</td><td>8</td><td>4</td><td>2</td><td>1</td><td>benign</td></tr><tr><th>28</th><td>1102573</td><td>5</td><td>6</td><td>5</td><td>6</td><td>10</td><td>1</td><td>3</td><td>1</td><td>1</td><td>malignant</td></tr><tr><th>29</th><td>1227244</td><td>1</td><td>1</td><td>1</td><td>1</td><td>2</td><td>1</td><td>2</td><td>1</td><td>1</td><td>benign</td></tr><tr><th>30</th><td>1061990</td><td>4</td><td>1</td><td>1</td><td>1</td><td>2</td><td>1</td><td>2</td><td>1</td><td>1</td><td>benign</td></tr><tr><th>&vellip;</th><td>&vellip;</td><td>&vellip;</td><td>&vellip;</td><td>&vellip;</td><td>&vellip;</td><td>&vellip;</td><td>&vellip;</td><td>&vellip;</td><td>&vellip;</td><td>&vellip;</td><td>&vellip;</td></tr></tbody></table>"
      ],
      "text/latex": [
       "\\begin{tabular}{r|ccccccccccc}\n",
       "\t& ID & V1 & V2 & V3 & V4 & V5 & V6 & V7 & V8 & V9 & Class\\\\\n",
       "\t\\hline\n",
       "\t& String & Int32 & Int32 & Int32 & Int32 & Int32 & Int32 & Int32 & Int32 & Int32 & Categorical…\\\\\n",
       "\t\\hline\n",
       "\t1 & 657753 & 3 & 1 & 1 & 4 & 3 & 1 & 2 & 2 & 1 & benign \\\\\n",
       "\t2 & 167528 & 4 & 1 & 1 & 1 & 2 & 1 & 3 & 6 & 1 & benign \\\\\n",
       "\t3 & 764974 & 5 & 1 & 1 & 1 & 2 & 1 & 3 & 1 & 2 & benign \\\\\n",
       "\t4 & 1225799 & 10 & 6 & 4 & 3 & 10 & 10 & 9 & 10 & 1 & malignant \\\\\n",
       "\t5 & 1344449 & 1 & 1 & 1 & 1 & 1 & 1 & 2 & 1 & 1 & benign \\\\\n",
       "\t6 & 1033078 & 4 & 2 & 1 & 1 & 2 & 1 & 2 & 1 & 1 & benign \\\\\n",
       "\t7 & 837480 & 7 & 4 & 4 & 3 & 4 & 10 & 6 & 9 & 1 & malignant \\\\\n",
       "\t8 & 476903 & 10 & 5 & 7 & 3 & 3 & 7 & 3 & 3 & 8 & malignant \\\\\n",
       "\t9 & 1201870 & 4 & 1 & 1 & 3 & 1 & 1 & 2 & 1 & 1 & benign \\\\\n",
       "\t10 & 1110102 & 10 & 3 & 6 & 2 & 3 & 5 & 4 & 10 & 2 & malignant \\\\\n",
       "\t11 & 824249 & 1 & 1 & 1 & 1 & 2 & 1 & 3 & 1 & 1 & benign \\\\\n",
       "\t12 & 1223003 & 5 & 3 & 3 & 1 & 2 & 1 & 2 & 1 & 1 & benign \\\\\n",
       "\t13 & 1105524 & 1 & 1 & 1 & 1 & 2 & 1 & 2 & 1 & 1 & benign \\\\\n",
       "\t14 & 1147044 & 3 & 1 & 1 & 1 & 2 & 2 & 7 & 1 & 1 & benign \\\\\n",
       "\t15 & 733639 & 3 & 1 & 1 & 1 & 2 & 1 & 3 & 1 & 1 & benign \\\\\n",
       "\t16 & 1344121 & 8 & 10 & 4 & 4 & 8 & 10 & 8 & 2 & 1 & malignant \\\\\n",
       "\t17 & 1222464 & 6 & 10 & 10 & 10 & 4 & 10 & 7 & 10 & 1 & malignant \\\\\n",
       "\t18 & 1204898 & 6 & 1 & 1 & 1 & 2 & 1 & 3 & 1 & 1 & benign \\\\\n",
       "\t19 & 608157 & 10 & 4 & 3 & 10 & 4 & 10 & 10 & 1 & 1 & malignant \\\\\n",
       "\t20 & 1205579 & 8 & 7 & 6 & 4 & 4 & 10 & 5 & 1 & 1 & malignant \\\\\n",
       "\t21 & 640712 & 1 & 1 & 1 & 1 & 2 & 1 & 2 & 1 & 1 & benign \\\\\n",
       "\t22 & 1155546 & 2 & 1 & 1 & 2 & 3 & 1 & 2 & 1 & 1 & benign \\\\\n",
       "\t23 & 1106829 & 7 & 8 & 7 & 2 & 4 & 8 & 3 & 8 & 2 & malignant \\\\\n",
       "\t24 & 1211594 & 3 & 1 & 1 & 1 & 1 & 1 & 2 & 1 & 1 & benign \\\\\n",
       "\t25 & 1257815 & 5 & 1 & 3 & 1 & 2 & 1 & 2 & 1 & 1 & benign \\\\\n",
       "\t26 & 1106095 & 4 & 1 & 1 & 3 & 2 & 1 & 3 & 1 & 1 & benign \\\\\n",
       "\t27 & 1293439 & 6 & 9 & 7 & 5 & 5 & 8 & 4 & 2 & 1 & benign \\\\\n",
       "\t28 & 1102573 & 5 & 6 & 5 & 6 & 10 & 1 & 3 & 1 & 1 & malignant \\\\\n",
       "\t29 & 1227244 & 1 & 1 & 1 & 1 & 2 & 1 & 2 & 1 & 1 & benign \\\\\n",
       "\t30 & 1061990 & 4 & 1 & 1 & 1 & 2 & 1 & 2 & 1 & 1 & benign \\\\\n",
       "\t$\\dots$ & $\\dots$ & $\\dots$ & $\\dots$ & $\\dots$ & $\\dots$ & $\\dots$ & $\\dots$ & $\\dots$ & $\\dots$ & $\\dots$ & $\\dots$ \\\\\n",
       "\\end{tabular}\n"
      ],
      "text/plain": [
       "137×11 DataFrame. Omitted printing of 3 columns\n",
       "│ Row │ ID      │ V1    │ V2    │ V3    │ V4    │ V5    │ V6    │ V7    │\n",
       "│     │ \u001b[90mString\u001b[39m  │ \u001b[90mInt32\u001b[39m │ \u001b[90mInt32\u001b[39m │ \u001b[90mInt32\u001b[39m │ \u001b[90mInt32\u001b[39m │ \u001b[90mInt32\u001b[39m │ \u001b[90mInt32\u001b[39m │ \u001b[90mInt32\u001b[39m │\n",
       "├─────┼─────────┼───────┼───────┼───────┼───────┼───────┼───────┼───────┤\n",
       "│ 1   │ 657753  │ 3     │ 1     │ 1     │ 4     │ 3     │ 1     │ 2     │\n",
       "│ 2   │ 167528  │ 4     │ 1     │ 1     │ 1     │ 2     │ 1     │ 3     │\n",
       "│ 3   │ 764974  │ 5     │ 1     │ 1     │ 1     │ 2     │ 1     │ 3     │\n",
       "│ 4   │ 1225799 │ 10    │ 6     │ 4     │ 3     │ 10    │ 10    │ 9     │\n",
       "│ 5   │ 1344449 │ 1     │ 1     │ 1     │ 1     │ 1     │ 1     │ 2     │\n",
       "│ 6   │ 1033078 │ 4     │ 2     │ 1     │ 1     │ 2     │ 1     │ 2     │\n",
       "│ 7   │ 837480  │ 7     │ 4     │ 4     │ 3     │ 4     │ 10    │ 6     │\n",
       "│ 8   │ 476903  │ 10    │ 5     │ 7     │ 3     │ 3     │ 7     │ 3     │\n",
       "│ 9   │ 1201870 │ 4     │ 1     │ 1     │ 3     │ 1     │ 1     │ 2     │\n",
       "│ 10  │ 1110102 │ 10    │ 3     │ 6     │ 2     │ 3     │ 5     │ 4     │\n",
       "⋮\n",
       "│ 127 │ 1313658 │ 3     │ 1     │ 1     │ 1     │ 2     │ 1     │ 1     │\n",
       "│ 128 │ 183913  │ 1     │ 2     │ 2     │ 1     │ 2     │ 1     │ 1     │\n",
       "│ 129 │ 1168736 │ 10    │ 10    │ 10    │ 10    │ 10    │ 1     │ 8     │\n",
       "│ 130 │ 877943  │ 3     │ 10    │ 3     │ 10    │ 6     │ 10    │ 5     │\n",
       "│ 131 │ 320675  │ 3     │ 3     │ 5     │ 2     │ 3     │ 10    │ 7     │\n",
       "│ 132 │ 1200772 │ 1     │ 1     │ 1     │ 1     │ 2     │ 1     │ 2     │\n",
       "│ 133 │ 1158247 │ 1     │ 1     │ 1     │ 1     │ 2     │ 1     │ 2     │\n",
       "│ 134 │ 1318169 │ 9     │ 10    │ 10    │ 10    │ 10    │ 5     │ 10    │\n",
       "│ 135 │ 684955  │ 2     │ 1     │ 1     │ 1     │ 3     │ 1     │ 2     │\n",
       "│ 136 │ 521441  │ 5     │ 1     │ 1     │ 2     │ 2     │ 1     │ 2     │\n",
       "│ 137 │ 1054590 │ 7     │ 3     │ 2     │ 10    │ 5     │ 10    │ 5     │"
      ]
     },
     "execution_count": 33,
     "metadata": {},
     "output_type": "execute_result"
    }
   ],
   "source": [
    "train = biopsy[train_ind, :] #建立訓練用資料的DataFrame\n",
    "test = biopsy[test_ind, :] #建立測試用資料的DataFrame"
   ]
  },
  {
   "cell_type": "markdown",
   "metadata": {},
   "source": [
    "## 將原始資料分成 features 和 labels"
   ]
  },
  {
   "cell_type": "code",
   "execution_count": 34,
   "metadata": {},
   "outputs": [
    {
     "name": "stderr",
     "output_type": "stream",
     "text": [
      "┌ Warning: `getindex(df::DataFrame, col_inds::Union{AbstractVector, Regex, Not})` is deprecated, use `df[:, col_inds]` instead.\n",
      "│   caller = top-level scope at In[34]:1\n",
      "└ @ Core In[34]:1\n",
      "┌ Warning: `getindex(df::DataFrame, col_ind::ColumnIndex)` is deprecated, use `df[!, col_ind]` instead.\n",
      "│   caller = top-level scope at In[34]:2\n",
      "└ @ Core In[34]:2\n"
     ]
    },
    {
     "data": {
      "text/plain": [
       "546-element Array{String,1}:\n",
       " \"benign\"\n",
       " \"malignant\"\n",
       " \"benign\"\n",
       " \"malignant\"\n",
       " \"benign\"\n",
       " \"benign\"\n",
       " \"malignant\"\n",
       " \"malignant\"\n",
       " \"benign\"\n",
       " \"benign\"\n",
       " \"benign\"\n",
       " \"malignant\"\n",
       " \"benign\"\n",
       " ⋮\n",
       " \"benign\"\n",
       " \"benign\"\n",
       " \"benign\"\n",
       " \"benign\"\n",
       " \"benign\"\n",
       " \"benign\"\n",
       " \"benign\"\n",
       " \"benign\"\n",
       " \"malignant\"\n",
       " \"benign\"\n",
       " \"benign\"\n",
       " \"malignant\""
      ]
     },
     "execution_count": 34,
     "metadata": {},
     "output_type": "execute_result"
    }
   ],
   "source": [
    "features = Matrix(train[2:10])\n",
    "labels = Vector{String}(train[11])"
   ]
  },
  {
   "cell_type": "markdown",
   "metadata": {},
   "source": [
    "## 建立與訓練模型"
   ]
  },
  {
   "cell_type": "code",
   "execution_count": 7,
   "metadata": {},
   "outputs": [
    {
     "data": {
      "text/plain": [
       "RandomForestClassifier\n",
       "n_trees:             10\n",
       "n_subfeatures:       -1\n",
       "partial_sampling:    0.7\n",
       "max_depth:           5\n",
       "min_samples_leaf:    1\n",
       "min_samples_split:   2\n",
       "min_purity_increase: 0.0\n",
       "classes:             nothing\n",
       "ensemble:            nothing"
      ]
     },
     "execution_count": 7,
     "metadata": {},
     "output_type": "execute_result"
    }
   ],
   "source": [
    "model = DecisionTree.RandomForestClassifier(max_depth=5)"
   ]
  },
  {
   "cell_type": "code",
   "execution_count": 20,
   "metadata": {
    "scrolled": true
   },
   "outputs": [
    {
     "data": {
      "text/plain": [
       "RandomForestClassifier\n",
       "n_trees:             10\n",
       "n_subfeatures:       -1\n",
       "partial_sampling:    0.7\n",
       "max_depth:           5\n",
       "min_samples_leaf:    1\n",
       "min_samples_split:   2\n",
       "min_purity_increase: 0.0\n",
       "classes:             [\"benign\", \"malignant\"]\n",
       "ensemble:            Ensemble of Decision Trees\n",
       "Trees:      10\n",
       "Avg Leaves: 13.5\n",
       "Avg Depth:  5.0"
      ]
     },
     "execution_count": 20,
     "metadata": {},
     "output_type": "execute_result"
    }
   ],
   "source": [
    "DecisionTree.fit!(model, features, labels)"
   ]
  },
  {
   "cell_type": "markdown",
   "metadata": {},
   "source": [
    "## 建立測試資料並進行預測"
   ]
  },
  {
   "cell_type": "code",
   "execution_count": 35,
   "metadata": {},
   "outputs": [
    {
     "name": "stderr",
     "output_type": "stream",
     "text": [
      "┌ Warning: `getindex(df::DataFrame, col_inds::Union{AbstractVector, Regex, Not})` is deprecated, use `df[:, col_inds]` instead.\n",
      "│   caller = top-level scope at In[35]:1\n",
      "└ @ Core In[35]:1\n"
     ]
    },
    {
     "data": {
      "text/plain": [
       "137×9 Array{Int32,2}:\n",
       "  3   1   1   4   3   1   2   2   1\n",
       "  4   1   1   1   2   1   3   6   1\n",
       "  5   1   1   1   2   1   3   1   2\n",
       " 10   6   4   3  10  10   9  10   1\n",
       "  1   1   1   1   1   1   2   1   1\n",
       "  4   2   1   1   2   1   2   1   1\n",
       "  7   4   4   3   4  10   6   9   1\n",
       " 10   5   7   3   3   7   3   3   8\n",
       "  4   1   1   3   1   1   2   1   1\n",
       " 10   3   6   2   3   5   4  10   2\n",
       "  1   1   1   1   2   1   3   1   1\n",
       "  5   3   3   1   2   1   2   1   1\n",
       "  1   1   1   1   2   1   2   1   1\n",
       "  ⋮                   ⋮          \n",
       "  5   2   4   1   1   1   1   1   1\n",
       "  3   1   1   1   2   1   1   1   1\n",
       "  1   2   2   1   2   1   1   1   1\n",
       " 10  10  10  10  10   1   8   8   8\n",
       "  3  10   3  10   6  10   5   1   4\n",
       "  3   3   5   2   3  10   7   1   1\n",
       "  1   1   1   1   2   1   2   1   1\n",
       "  1   1   1   1   2   1   2   1   1\n",
       "  9  10  10  10  10   5  10  10  10\n",
       "  2   1   1   1   3   1   2   1   1\n",
       "  5   1   1   2   2   1   2   1   1\n",
       "  7   3   2  10   5  10   5   4   4"
      ]
     },
     "execution_count": 35,
     "metadata": {},
     "output_type": "execute_result"
    }
   ],
   "source": [
    "test_features = Matrix(test[2:10])"
   ]
  },
  {
   "cell_type": "code",
   "execution_count": 36,
   "metadata": {
    "scrolled": true
   },
   "outputs": [
    {
     "data": {
      "text/plain": [
       "137-element Array{String,1}:\n",
       " \"benign\"\n",
       " \"benign\"\n",
       " \"benign\"\n",
       " \"malignant\"\n",
       " \"benign\"\n",
       " \"benign\"\n",
       " \"malignant\"\n",
       " \"malignant\"\n",
       " \"benign\"\n",
       " \"malignant\"\n",
       " \"benign\"\n",
       " \"benign\"\n",
       " \"benign\"\n",
       " ⋮\n",
       " \"benign\"\n",
       " \"benign\"\n",
       " \"benign\"\n",
       " \"malignant\"\n",
       " \"malignant\"\n",
       " \"malignant\"\n",
       " \"benign\"\n",
       " \"benign\"\n",
       " \"malignant\"\n",
       " \"benign\"\n",
       " \"benign\"\n",
       " \"malignant\""
      ]
     },
     "execution_count": 36,
     "metadata": {},
     "output_type": "execute_result"
    }
   ],
   "source": [
    "result = DecisionTree.predict(model, test_features[:, :])"
   ]
  },
  {
   "cell_type": "markdown",
   "metadata": {},
   "source": [
    "## 評估模型"
   ]
  },
  {
   "cell_type": "code",
   "execution_count": 41,
   "metadata": {},
   "outputs": [
    {
     "name": "stderr",
     "output_type": "stream",
     "text": [
      "┌ Warning: `getindex(df::DataFrame, col_ind::ColumnIndex)` is deprecated, use `df[!, col_ind]` instead.\n",
      "│   caller = top-level scope at In[41]:2\n",
      "└ @ Core In[41]:2\n"
     ]
    },
    {
     "data": {
      "text/plain": [
       "0.9635036496350365"
      ]
     },
     "execution_count": 41,
     "metadata": {},
     "output_type": "execute_result"
    }
   ],
   "source": [
    "# 宣告 accuracy 函數\n",
    "accuracy(real, predict) = mean(real .== predict)\n",
    "# 建立 real label的 Vector\n",
    "test_labels = Vector{String}(test[11])\n",
    "# 進行比對\n",
    "accuracy(result, test_labels[:, :])"
   ]
  },
  {
   "cell_type": "code",
   "execution_count": null,
   "metadata": {},
   "outputs": [],
   "source": []
  }
 ],
 "metadata": {
  "kernelspec": {
   "display_name": "Julia 1.4.0",
   "language": "julia",
   "name": "julia-1.4"
  },
  "language_info": {
   "file_extension": ".jl",
   "mimetype": "application/julia",
   "name": "julia",
   "version": "1.4.0"
  }
 },
 "nbformat": 4,
 "nbformat_minor": 4
}
