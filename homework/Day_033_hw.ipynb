{
 "cells": [
  {
   "cell_type": "markdown",
   "metadata": {},
   "source": [
    "# Julia 深度學習：卷積神經網路模型簡介\n",
    "\n",
    "## 作業 033：訓練 CNN 學習門牌號碼資料集\n",
    "\n",
    "訓練一個 CNN 模型來學習門牌號碼資料集。"
   ]
  },
  {
   "cell_type": "code",
   "execution_count": 70,
   "metadata": {},
   "outputs": [],
   "source": [
    "using Flux\n",
    "using Flux.Data: DataLoader\n",
    "using Flux: @epochs, onecold, onehotbatch, throttle, logitcrossentropy\n",
    "using MLDatasets\n",
    "using Statistics"
   ]
  },
  {
   "cell_type": "markdown",
   "metadata": {},
   "source": [
    "## 讀取資料"
   ]
  },
  {
   "cell_type": "code",
   "execution_count": 71,
   "metadata": {},
   "outputs": [
    {
     "data": {
      "text/plain": [
       "(Float32[0.14901961 0.15294118 … 0.19607843 0.1882353; 0.15294118 0.15294118 … 0.2 0.1882353; … ; 0.16470589 0.16862746 … 0.1764706 0.17254902; 0.15294118 0.15294118 … 0.16470589 0.16470589]\n",
       "\n",
       "Float32[0.40392157 0.40784314 … 0.45882353 0.4509804; 0.40784314 0.40784314 … 0.4627451 0.4509804; … ; 0.40392157 0.39607844 … 0.45490196 0.4509804; 0.38039216 0.38039216 … 0.44313726 0.44313726]\n",
       "\n",
       "Float32[0.23529412 0.23921569 … 0.29803923 0.2901961; 0.23921569 0.23921569 … 0.3019608 0.2901961; … ; 0.24313726 0.24705882 … 0.28235295 0.2784314; 0.22352941 0.22352941 … 0.27058825 0.2784314]\n",
       "\n",
       "Float32[0.5058824 0.5254902 … 0.5411765 0.5137255; 0.49803922 0.52156866 … 0.50980395 0.47843137; … ; 0.48235294 0.49411765 … 0.39607844 0.43529412; 0.48235294 0.49019608 … 0.4392157 0.48235294]\n",
       "\n",
       "Float32[0.5568628 0.5882353 … 0.59607846 0.5686275; 0.56078434 0.58431375 … 0.5647059 0.53333336; … ; 0.5254902 0.5372549 … 0.41960785 0.4627451; 0.5294118 0.5372549 … 0.4627451 0.50980395]\n",
       "\n",
       "Float32[0.6 0.627451 … 0.64705884 0.61960787; 0.59607846 0.61960787 … 0.6156863 0.58431375; … ; 0.6117647 0.6156863 … 0.5254902 0.5647059; 0.6156863 0.61960787 … 0.5647059 0.6117647]\n",
       "\n",
       "Float32[0.5882353 0.5882353 … 0.5764706 0.62352943; 0.5882353 0.5921569 … 0.5764706 0.62352943; … ; 0.5882353 0.6 … 0.54509807 0.59607846; 0.5764706 0.5882353 … 0.5411765 0.59607846]\n",
       "\n",
       "Float32[0.627451 0.627451 … 0.64705884 0.69411767; 0.6392157 0.6392157 … 0.6431373 0.69411767; … ; 0.67058825 0.67058825 … 0.60784316 0.65882355; 0.6627451 0.6627451 … 0.60784316 0.65882355]\n",
       "\n",
       "Float32[0.6627451 0.6627451 … 0.7019608 0.7411765; 0.6666667 0.6627451 … 0.7019608 0.74509805; … ; 0.70980394 0.7058824 … 0.6666667 0.7137255; 0.7058824 0.7019608 … 0.67058825 0.7176471]\n",
       "\n",
       "...\n",
       "\n",
       "Float32[0.050980393 0.050980393 … 0.043137256 0.047058824; 0.047058824 0.047058824 … 0.047058824 0.050980393; … ; 0.10980392 0.11764706 … 0.13725491 0.13725491; 0.105882354 0.11372549 … 0.14509805 0.15294118]\n",
       "\n",
       "Float32[0.05882353 0.05490196 … 0.047058824 0.050980393; 0.050980393 0.050980393 … 0.050980393 0.05490196; … ; 0.1254902 0.13725491 … 0.14117648 0.14117648; 0.12941177 0.13725491 … 0.14901961 0.15294118]\n",
       "\n",
       "Float32[0.05490196 0.05882353 … 0.05490196 0.05882353; 0.05882353 0.05882353 … 0.05882353 0.0627451; … ; 0.12941177 0.13333334 … 0.16470589 0.16862746; 0.12156863 0.12941177 … 0.1764706 0.18431373]\n",
       "\n",
       "Float32[0.23529412 0.23529412 … 0.2627451 0.25882354; 0.23921569 0.23921569 … 0.2627451 0.25490198; … ; 0.4745098 0.49411765 … 0.43529412 0.41960785; 0.4745098 0.49803922 … 0.4392157 0.41568628]\n",
       "\n",
       "Float32[0.21960784 0.22352941 … 0.21960784 0.20784314; 0.22745098 0.23529412 … 0.22352941 0.20784314; … ; 0.5019608 0.52156866 … 0.4392157 0.40784314; 0.5019608 0.5254902 … 0.44313726 0.40392157]\n",
       "\n",
       "Float32[0.2784314 0.29411766 … 0.26666668 0.24705882; 0.2901961 0.30588236 … 0.27058825 0.24705882; … ; 0.5411765 0.56078434 … 0.4862745 0.45882353; 0.5411765 0.5647059 … 0.49019608 0.45490196]\n",
       "\n",
       "Float32[0.40392157 0.43529412 … 0.47058824 0.43529412; 0.40392157 0.43137255 … 0.46666667 0.43529412; … ; 0.41568628 0.4509804 … 0.37254903 0.32156864; 0.4 0.44313726 … 0.36862746 0.32156864]\n",
       "\n",
       "Float32[0.45490196 0.49411765 … 0.4509804 0.40784314; 0.45882353 0.49411765 … 0.4509804 0.4117647; … ; 0.41960785 0.4627451 … 0.35686275 0.3019608; 0.40392157 0.44705883 … 0.3529412 0.29803923]\n",
       "\n",
       "Float32[0.5058824 0.54509807 … 0.52156866 0.47843137; 0.50980395 0.54509807 … 0.5176471 0.47843137; … ; 0.4 0.4392157 … 0.3529412 0.29411766; 0.38039216 0.41960785 … 0.3372549 0.2901961], [5, 2, 1, 10, 6, 1, 9, 1, 1, 8  …  4, 6, 5, 7, 1, 8, 4, 8, 1, 6])"
      ]
     },
     "execution_count": 71,
     "metadata": {},
     "output_type": "execute_result"
    }
   ],
   "source": [
    "train_X, train_y = SVHN2.traindata(Float32, 1:20000)\n",
    "test_X,  test_y  = SVHN2.testdata(Float32, 1:2000)"
   ]
  },
  {
   "cell_type": "code",
   "execution_count": 72,
   "metadata": {},
   "outputs": [
    {
     "data": {
      "text/plain": [
       "10×2000 Flux.OneHotMatrix{Array{Flux.OneHotVector,1}}:\n",
       " 0  0  1  0  0  1  0  1  1  0  0  0  0  …  0  0  0  0  0  0  1  0  0  0  1  0\n",
       " 0  1  0  0  0  0  0  0  0  0  0  0  0     0  0  0  0  0  0  0  0  0  0  0  0\n",
       " 0  0  0  0  0  0  0  0  0  0  1  0  0     0  0  0  0  0  0  0  0  0  0  0  0\n",
       " 0  0  0  0  0  0  0  0  0  0  0  0  0     0  0  1  0  0  0  0  0  1  0  0  0\n",
       " 1  0  0  0  0  0  0  0  0  0  0  0  1     0  0  0  0  1  0  0  0  0  0  0  0\n",
       " 0  0  0  0  1  0  0  0  0  0  0  1  0  …  0  0  0  1  0  0  0  0  0  0  0  1\n",
       " 0  0  0  0  0  0  0  0  0  0  0  0  0     1  0  0  0  0  1  0  0  0  0  0  0\n",
       " 0  0  0  0  0  0  0  0  0  1  0  0  0     0  1  0  0  0  0  0  1  0  1  0  0\n",
       " 0  0  0  0  0  0  1  0  0  0  0  0  0     0  0  0  0  0  0  0  0  0  0  0  0\n",
       " 0  0  0  1  0  0  0  0  0  0  0  0  0     0  0  0  0  0  0  0  0  0  0  0  0"
      ]
     },
     "execution_count": 72,
     "metadata": {},
     "output_type": "execute_result"
    }
   ],
   "source": [
    "train_y = onehotbatch(train_y, 1:10)\n",
    "test_y = onehotbatch(test_y, 1:10)"
   ]
  },
  {
   "cell_type": "code",
   "execution_count": 73,
   "metadata": {},
   "outputs": [
    {
     "data": {
      "text/plain": [
       "DataLoader((Float32[0.14901961 0.15294118 … 0.19607843 0.1882353; 0.15294118 0.15294118 … 0.2 0.1882353; … ; 0.16470589 0.16862746 … 0.1764706 0.17254902; 0.15294118 0.15294118 … 0.16470589 0.16470589]\n",
       "\n",
       "Float32[0.40392157 0.40784314 … 0.45882353 0.4509804; 0.40784314 0.40784314 … 0.4627451 0.4509804; … ; 0.40392157 0.39607844 … 0.45490196 0.4509804; 0.38039216 0.38039216 … 0.44313726 0.44313726]\n",
       "\n",
       "Float32[0.23529412 0.23921569 … 0.29803923 0.2901961; 0.23921569 0.23921569 … 0.3019608 0.2901961; … ; 0.24313726 0.24705882 … 0.28235295 0.2784314; 0.22352941 0.22352941 … 0.27058825 0.2784314]\n",
       "\n",
       "Float32[0.5058824 0.5254902 … 0.5411765 0.5137255; 0.49803922 0.52156866 … 0.50980395 0.47843137; … ; 0.48235294 0.49411765 … 0.39607844 0.43529412; 0.48235294 0.49019608 … 0.4392157 0.48235294]\n",
       "\n",
       "Float32[0.5568628 0.5882353 … 0.59607846 0.5686275; 0.56078434 0.58431375 … 0.5647059 0.53333336; … ; 0.5254902 0.5372549 … 0.41960785 0.4627451; 0.5294118 0.5372549 … 0.4627451 0.50980395]\n",
       "\n",
       "Float32[0.6 0.627451 … 0.64705884 0.61960787; 0.59607846 0.61960787 … 0.6156863 0.58431375; … ; 0.6117647 0.6156863 … 0.5254902 0.5647059; 0.6156863 0.61960787 … 0.5647059 0.6117647]\n",
       "\n",
       "Float32[0.5882353 0.5882353 … 0.5764706 0.62352943; 0.5882353 0.5921569 … 0.5764706 0.62352943; … ; 0.5882353 0.6 … 0.54509807 0.59607846; 0.5764706 0.5882353 … 0.5411765 0.59607846]\n",
       "\n",
       "Float32[0.627451 0.627451 … 0.64705884 0.69411767; 0.6392157 0.6392157 … 0.6431373 0.69411767; … ; 0.67058825 0.67058825 … 0.60784316 0.65882355; 0.6627451 0.6627451 … 0.60784316 0.65882355]\n",
       "\n",
       "Float32[0.6627451 0.6627451 … 0.7019608 0.7411765; 0.6666667 0.6627451 … 0.7019608 0.74509805; … ; 0.70980394 0.7058824 … 0.6666667 0.7137255; 0.7058824 0.7019608 … 0.67058825 0.7176471]\n",
       "\n",
       "...\n",
       "\n",
       "Float32[0.050980393 0.050980393 … 0.043137256 0.047058824; 0.047058824 0.047058824 … 0.047058824 0.050980393; … ; 0.10980392 0.11764706 … 0.13725491 0.13725491; 0.105882354 0.11372549 … 0.14509805 0.15294118]\n",
       "\n",
       "Float32[0.05882353 0.05490196 … 0.047058824 0.050980393; 0.050980393 0.050980393 … 0.050980393 0.05490196; … ; 0.1254902 0.13725491 … 0.14117648 0.14117648; 0.12941177 0.13725491 … 0.14901961 0.15294118]\n",
       "\n",
       "Float32[0.05490196 0.05882353 … 0.05490196 0.05882353; 0.05882353 0.05882353 … 0.05882353 0.0627451; … ; 0.12941177 0.13333334 … 0.16470589 0.16862746; 0.12156863 0.12941177 … 0.1764706 0.18431373]\n",
       "\n",
       "Float32[0.23529412 0.23529412 … 0.2627451 0.25882354; 0.23921569 0.23921569 … 0.2627451 0.25490198; … ; 0.4745098 0.49411765 … 0.43529412 0.41960785; 0.4745098 0.49803922 … 0.4392157 0.41568628]\n",
       "\n",
       "Float32[0.21960784 0.22352941 … 0.21960784 0.20784314; 0.22745098 0.23529412 … 0.22352941 0.20784314; … ; 0.5019608 0.52156866 … 0.4392157 0.40784314; 0.5019608 0.5254902 … 0.44313726 0.40392157]\n",
       "\n",
       "Float32[0.2784314 0.29411766 … 0.26666668 0.24705882; 0.2901961 0.30588236 … 0.27058825 0.24705882; … ; 0.5411765 0.56078434 … 0.4862745 0.45882353; 0.5411765 0.5647059 … 0.49019608 0.45490196]\n",
       "\n",
       "Float32[0.40392157 0.43529412 … 0.47058824 0.43529412; 0.40392157 0.43137255 … 0.46666667 0.43529412; … ; 0.41568628 0.4509804 … 0.37254903 0.32156864; 0.4 0.44313726 … 0.36862746 0.32156864]\n",
       "\n",
       "Float32[0.45490196 0.49411765 … 0.4509804 0.40784314; 0.45882353 0.49411765 … 0.4509804 0.4117647; … ; 0.41960785 0.4627451 … 0.35686275 0.3019608; 0.40392157 0.44705883 … 0.3529412 0.29803923]\n",
       "\n",
       "Float32[0.5058824 0.54509807 … 0.52156866 0.47843137; 0.50980395 0.54509807 … 0.5176471 0.47843137; … ; 0.4 0.4392157 … 0.3529412 0.29411766; 0.38039216 0.41960785 … 0.3372549 0.2901961], Bool[0 0 … 1 0; 0 1 … 0 0; … ; 0 0 … 0 0; 0 0 … 0 0]), 1024, 2000, true, 2000, [1, 2, 3, 4, 5, 6, 7, 8, 9, 10  …  1991, 1992, 1993, 1994, 1995, 1996, 1997, 1998, 1999, 2000], false)"
      ]
     },
     "execution_count": 73,
     "metadata": {},
     "output_type": "execute_result"
    }
   ],
   "source": [
    "batchsize = 1024\n",
    "train = DataLoader(train_X, train_y, batchsize=batchsize, shuffle=true)\n",
    "test = DataLoader(test_X, test_y, batchsize=batchsize)"
   ]
  },
  {
   "cell_type": "markdown",
   "metadata": {},
   "source": [
    "## CNN 模型"
   ]
  },
  {
   "cell_type": "code",
   "execution_count": 74,
   "metadata": {},
   "outputs": [
    {
     "data": {
      "text/plain": [
       "Chain(Conv((3, 3), 3=>32, relu), MaxPool((2, 2), pad = (0, 0, 0, 0), stride = (2, 2)), Conv((3, 3), 32=>32, relu), MaxPool((2, 2), pad = (0, 0, 0, 0), stride = (2, 2)), Conv((3, 3), 32=>64, relu), MaxPool((2, 2), pad = (0, 0, 0, 0), stride = (2, 2)), flatten, Dense(1024, 256), Dense(256, 10), softmax)"
      ]
     },
     "execution_count": 74,
     "metadata": {},
     "output_type": "execute_result"
    }
   ],
   "source": [
    "model = Chain(\n",
    "    Conv((3, 3), 3=>32, pad=(1,1), relu),\n",
    "    MaxPool((2,2)),\n",
    "    Conv((3, 3), 32=>32, pad=(1,1), relu),\n",
    "    MaxPool((2,2)),\n",
    "    Conv((3, 3), 32=>64, pad=(1,1), relu),\n",
    "    MaxPool((2,2)),\n",
    "    flatten,\n",
    "    Dense(1024, 256),\n",
    "    Dense(256, 10),\n",
    "    softmax)"
   ]
  },
  {
   "cell_type": "markdown",
   "metadata": {},
   "source": [
    "## 使用CUDA"
   ]
  },
  {
   "cell_type": "code",
   "execution_count": 75,
   "metadata": {},
   "outputs": [
    {
     "data": {
      "text/plain": [
       "10×2000 Flux.OneHotMatrix{Array{Flux.OneHotVector,1}}:\n",
       " 0  0  1  0  0  1  0  1  1  0  0  0  0  …  0  0  0  0  0  0  1  0  0  0  1  0\n",
       " 0  1  0  0  0  0  0  0  0  0  0  0  0     0  0  0  0  0  0  0  0  0  0  0  0\n",
       " 0  0  0  0  0  0  0  0  0  0  1  0  0     0  0  0  0  0  0  0  0  0  0  0  0\n",
       " 0  0  0  0  0  0  0  0  0  0  0  0  0     0  0  1  0  0  0  0  0  1  0  0  0\n",
       " 1  0  0  0  0  0  0  0  0  0  0  0  1     0  0  0  0  1  0  0  0  0  0  0  0\n",
       " 0  0  0  0  1  0  0  0  0  0  0  1  0  …  0  0  0  1  0  0  0  0  0  0  0  1\n",
       " 0  0  0  0  0  0  0  0  0  0  0  0  0     1  0  0  0  0  1  0  0  0  0  0  0\n",
       " 0  0  0  0  0  0  0  0  0  1  0  0  0     0  1  0  0  0  0  0  1  0  1  0  0\n",
       " 0  0  0  0  0  0  1  0  0  0  0  0  0     0  0  0  0  0  0  0  0  0  0  0  0\n",
       " 0  0  0  1  0  0  0  0  0  0  0  0  0     0  0  0  0  0  0  0  0  0  0  0  0"
      ]
     },
     "execution_count": 75,
     "metadata": {},
     "output_type": "execute_result"
    }
   ],
   "source": [
    "using CuArrays\n",
    "model = model |> gpu\n",
    "train_X = train_X |> gpu\n",
    "train_y = train_y |> gpu\n",
    "test_X = test_X |> gpu\n",
    "test_y = test_y |> gpu"
   ]
  },
  {
   "cell_type": "markdown",
   "metadata": {},
   "source": [
    "## 損失函數設定"
   ]
  },
  {
   "cell_type": "code",
   "execution_count": 76,
   "metadata": {},
   "outputs": [
    {
     "data": {
      "text/plain": [
       "loss (generic function with 1 method)"
      ]
     },
     "execution_count": 76,
     "metadata": {},
     "output_type": "execute_result"
    }
   ],
   "source": [
    "loss(x, y) = logitcrossentropy(model(x), y)"
   ]
  },
  {
   "cell_type": "markdown",
   "metadata": {},
   "source": [
    "## CallBack函式"
   ]
  },
  {
   "cell_type": "code",
   "execution_count": 77,
   "metadata": {},
   "outputs": [
    {
     "data": {
      "text/plain": [
       "test_loss (generic function with 1 method)"
      ]
     },
     "execution_count": 77,
     "metadata": {},
     "output_type": "execute_result"
    }
   ],
   "source": [
    "function test_loss()\n",
    "    l = 0f0\n",
    "    for (x, y) in test\n",
    "        l += loss(x, y)\n",
    "    end\n",
    "    l/length(test)\n",
    "end"
   ]
  },
  {
   "cell_type": "code",
   "execution_count": 78,
   "metadata": {},
   "outputs": [
    {
     "data": {
      "text/plain": [
       "evalcb (generic function with 1 method)"
      ]
     },
     "execution_count": 78,
     "metadata": {},
     "output_type": "execute_result"
    }
   ],
   "source": [
    "evalcb() = @show(test_loss())"
   ]
  },
  {
   "cell_type": "markdown",
   "metadata": {},
   "source": [
    "## 模型訓練"
   ]
  },
  {
   "cell_type": "code",
   "execution_count": 79,
   "metadata": {},
   "outputs": [
    {
     "name": "stderr",
     "output_type": "stream",
     "text": [
      "┌ Info: Epoch 1\n",
      "└ @ Main C:\\Users\\User\\.julia\\packages\\Flux\\Fj3bt\\src\\optimise\\train.jl:121\n"
     ]
    },
    {
     "name": "stdout",
     "output_type": "stream",
     "text": [
      "test_loss() = 2.264176f0\n",
      "test_loss() = 2.2809925f0\n",
      "test_loss() = 2.2619722f0\n",
      "test_loss() = 2.2662785f0\n",
      "test_loss() = 2.2651222f0\n",
      "test_loss() = 2.257327f0\n",
      "test_loss() = 2.257976f0\n",
      "test_loss() = 2.2555656f0\n"
     ]
    },
    {
     "name": "stderr",
     "output_type": "stream",
     "text": [
      "┌ Info: Epoch 2\n",
      "└ @ Main C:\\Users\\User\\.julia\\packages\\Flux\\Fj3bt\\src\\optimise\\train.jl:121\n"
     ]
    },
    {
     "name": "stdout",
     "output_type": "stream",
     "text": [
      "test_loss() = 2.261799f0\n",
      "test_loss() = 2.2547784f0\n",
      "test_loss() = 2.25053f0\n",
      "test_loss() = 2.250983f0\n",
      "test_loss() = 2.246512f0\n",
      "test_loss() = 2.2381291f0\n",
      "test_loss() = 2.2232285f0\n"
     ]
    },
    {
     "name": "stderr",
     "output_type": "stream",
     "text": [
      "┌ Info: Epoch 3\n",
      "└ @ Main C:\\Users\\User\\.julia\\packages\\Flux\\Fj3bt\\src\\optimise\\train.jl:121\n"
     ]
    },
    {
     "name": "stdout",
     "output_type": "stream",
     "text": [
      "test_loss() = 2.3049965f0\n",
      "test_loss() = 2.28481f0\n",
      "test_loss() = 2.221829f0\n",
      "test_loss() = 2.2182322f0\n",
      "test_loss() = 2.2072568f0\n",
      "test_loss() = 2.1997454f0\n",
      "test_loss() = 2.190218f0\n"
     ]
    },
    {
     "name": "stderr",
     "output_type": "stream",
     "text": [
      "┌ Info: Epoch 4\n",
      "└ @ Main C:\\Users\\User\\.julia\\packages\\Flux\\Fj3bt\\src\\optimise\\train.jl:121\n"
     ]
    },
    {
     "name": "stdout",
     "output_type": "stream",
     "text": [
      "test_loss() = 2.2571726f0\n",
      "test_loss() = 2.199162f0\n",
      "test_loss() = 2.190763f0\n",
      "test_loss() = 2.1774807f0\n",
      "test_loss() = 2.1751447f0\n",
      "test_loss() = 2.1723228f0\n",
      "test_loss() = 2.164175f0\n"
     ]
    },
    {
     "name": "stderr",
     "output_type": "stream",
     "text": [
      "┌ Info: Epoch 5\n",
      "└ @ Main C:\\Users\\User\\.julia\\packages\\Flux\\Fj3bt\\src\\optimise\\train.jl:121\n"
     ]
    },
    {
     "name": "stdout",
     "output_type": "stream",
     "text": [
      "test_loss() = 2.2075565f0\n",
      "test_loss() = 2.171902f0\n",
      "test_loss() = 2.1623955f0\n",
      "test_loss() = 2.1443615f0\n",
      "test_loss() = 2.1402535f0\n",
      "test_loss() = 2.1394324f0\n",
      "test_loss() = 2.1266992f0\n"
     ]
    },
    {
     "name": "stderr",
     "output_type": "stream",
     "text": [
      "┌ Info: Epoch 6\n",
      "└ @ Main C:\\Users\\User\\.julia\\packages\\Flux\\Fj3bt\\src\\optimise\\train.jl:121\n"
     ]
    },
    {
     "name": "stdout",
     "output_type": "stream",
     "text": [
      "test_loss() = 2.1833677f0\n",
      "test_loss() = 2.1628456f0\n",
      "test_loss() = 2.141333f0\n",
      "test_loss() = 2.142696f0\n",
      "test_loss() = 2.1184754f0\n",
      "test_loss() = 2.1052182f0\n",
      "test_loss() = 2.1074796f0\n"
     ]
    },
    {
     "name": "stderr",
     "output_type": "stream",
     "text": [
      "┌ Info: Epoch 7\n",
      "└ @ Main C:\\Users\\User\\.julia\\packages\\Flux\\Fj3bt\\src\\optimise\\train.jl:121\n"
     ]
    },
    {
     "name": "stdout",
     "output_type": "stream",
     "text": [
      "test_loss() = 2.1986566f0\n",
      "test_loss() = 2.106773f0\n",
      "test_loss() = 2.1161613f0\n",
      "test_loss() = 2.10042f0\n",
      "test_loss() = 2.0872245f0\n",
      "test_loss() = 2.0871348f0\n",
      "test_loss() = 2.0802963f0\n"
     ]
    },
    {
     "name": "stderr",
     "output_type": "stream",
     "text": [
      "┌ Info: Epoch 8\n",
      "└ @ Main C:\\Users\\User\\.julia\\packages\\Flux\\Fj3bt\\src\\optimise\\train.jl:121\n"
     ]
    },
    {
     "name": "stdout",
     "output_type": "stream",
     "text": [
      "test_loss() = 2.1027052f0\n",
      "test_loss() = 2.066688f0\n",
      "test_loss() = 2.0617728f0\n",
      "test_loss() = 2.0589185f0\n",
      "test_loss() = 2.0521944f0\n",
      "test_loss() = 2.0371523f0\n",
      "test_loss() = 2.040264f0\n"
     ]
    },
    {
     "name": "stderr",
     "output_type": "stream",
     "text": [
      "┌ Info: Epoch 9\n",
      "└ @ Main C:\\Users\\User\\.julia\\packages\\Flux\\Fj3bt\\src\\optimise\\train.jl:121\n"
     ]
    },
    {
     "name": "stdout",
     "output_type": "stream",
     "text": [
      "test_loss() = 2.0737052f0\n",
      "test_loss() = 2.0519974f0\n",
      "test_loss() = 2.0390074f0\n",
      "test_loss() = 2.023304f0\n",
      "test_loss() = 2.0192852f0\n",
      "test_loss() = 2.0183494f0\n",
      "test_loss() = 2.0153818f0\n"
     ]
    },
    {
     "name": "stderr",
     "output_type": "stream",
     "text": [
      "┌ Info: Epoch 10\n",
      "└ @ Main C:\\Users\\User\\.julia\\packages\\Flux\\Fj3bt\\src\\optimise\\train.jl:121\n"
     ]
    },
    {
     "name": "stdout",
     "output_type": "stream",
     "text": [
      "test_loss() = 2.095149f0\n",
      "test_loss() = 2.0248795f0\n",
      "test_loss() = 2.0444577f0\n",
      "test_loss() = 2.0122805f0\n",
      "test_loss() = 2.022459f0\n",
      "test_loss() = 2.0175843f0\n",
      "test_loss() = 2.0102434f0\n"
     ]
    },
    {
     "name": "stderr",
     "output_type": "stream",
     "text": [
      "┌ Info: Epoch 11\n",
      "└ @ Main C:\\Users\\User\\.julia\\packages\\Flux\\Fj3bt\\src\\optimise\\train.jl:121\n"
     ]
    },
    {
     "name": "stdout",
     "output_type": "stream",
     "text": [
      "test_loss() = 2.1127374f0\n",
      "test_loss() = 2.0150113f0\n",
      "test_loss() = 2.0034926f0\n",
      "test_loss() = 1.9964595f0\n",
      "test_loss() = 1.9864857f0\n",
      "test_loss() = 1.976212f0\n",
      "test_loss() = 1.9730737f0\n"
     ]
    },
    {
     "name": "stderr",
     "output_type": "stream",
     "text": [
      "┌ Info: Epoch 12\n",
      "└ @ Main C:\\Users\\User\\.julia\\packages\\Flux\\Fj3bt\\src\\optimise\\train.jl:121\n"
     ]
    },
    {
     "name": "stdout",
     "output_type": "stream",
     "text": [
      "test_loss() = 2.0150192f0\n",
      "test_loss() = 2.008544f0\n",
      "test_loss() = 1.98788f0\n",
      "test_loss() = 1.9745517f0\n",
      "test_loss() = 1.961508f0\n",
      "test_loss() = 1.9537792f0\n"
     ]
    },
    {
     "name": "stderr",
     "output_type": "stream",
     "text": [
      "┌ Info: Epoch 13\n",
      "└ @ Main C:\\Users\\User\\.julia\\packages\\Flux\\Fj3bt\\src\\optimise\\train.jl:121\n"
     ]
    },
    {
     "name": "stdout",
     "output_type": "stream",
     "text": [
      "test_loss() = 2.0438502f0\n",
      "test_loss() = 1.978843f0\n",
      "test_loss() = 1.9563463f0\n",
      "test_loss() = 1.94864f0\n",
      "test_loss() = 1.9511628f0\n",
      "test_loss() = 1.9427888f0\n",
      "test_loss() = 1.9421654f0\n"
     ]
    },
    {
     "name": "stderr",
     "output_type": "stream",
     "text": [
      "┌ Info: Epoch 14\n",
      "└ @ Main C:\\Users\\User\\.julia\\packages\\Flux\\Fj3bt\\src\\optimise\\train.jl:121\n"
     ]
    },
    {
     "name": "stdout",
     "output_type": "stream",
     "text": [
      "test_loss() = 2.0243194f0\n",
      "test_loss() = 1.9635241f0\n",
      "test_loss() = 1.9498765f0\n",
      "test_loss() = 1.9465334f0\n",
      "test_loss() = 1.9445045f0\n",
      "test_loss() = 1.9366031f0\n",
      "test_loss() = 1.9284716f0\n"
     ]
    },
    {
     "name": "stderr",
     "output_type": "stream",
     "text": [
      "┌ Info: Epoch 15\n",
      "└ @ Main C:\\Users\\User\\.julia\\packages\\Flux\\Fj3bt\\src\\optimise\\train.jl:121\n"
     ]
    },
    {
     "name": "stdout",
     "output_type": "stream",
     "text": [
      "test_loss() = 2.015582f0\n",
      "test_loss() = 1.9515727f0\n",
      "test_loss() = 1.9339805f0\n",
      "test_loss() = 1.9335654f0\n",
      "test_loss() = 1.933314f0\n",
      "test_loss() = 1.9303164f0\n",
      "test_loss() = 1.928206f0\n"
     ]
    },
    {
     "name": "stderr",
     "output_type": "stream",
     "text": [
      "┌ Info: Epoch 16\n",
      "└ @ Main C:\\Users\\User\\.julia\\packages\\Flux\\Fj3bt\\src\\optimise\\train.jl:121\n"
     ]
    },
    {
     "name": "stdout",
     "output_type": "stream",
     "text": [
      "test_loss() = 1.9597881f0\n",
      "test_loss() = 1.9363337f0\n",
      "test_loss() = 1.9446553f0\n",
      "test_loss() = 1.933207f0\n",
      "test_loss() = 1.9220942f0\n",
      "test_loss() = 1.9333205f0\n",
      "test_loss() = 1.9182453f0\n"
     ]
    },
    {
     "name": "stderr",
     "output_type": "stream",
     "text": [
      "┌ Info: Epoch 17\n",
      "└ @ Main C:\\Users\\User\\.julia\\packages\\Flux\\Fj3bt\\src\\optimise\\train.jl:121\n"
     ]
    },
    {
     "name": "stdout",
     "output_type": "stream",
     "text": [
      "test_loss() = 1.9717937f0\n",
      "test_loss() = 1.927149f0\n",
      "test_loss() = 1.9224951f0\n",
      "test_loss() = 1.9261525f0\n",
      "test_loss() = 1.9314368f0\n",
      "test_loss() = 1.9135509f0\n",
      "test_loss() = 1.9153228f0\n"
     ]
    },
    {
     "name": "stderr",
     "output_type": "stream",
     "text": [
      "┌ Info: Epoch 18\n",
      "└ @ Main C:\\Users\\User\\.julia\\packages\\Flux\\Fj3bt\\src\\optimise\\train.jl:121\n"
     ]
    },
    {
     "name": "stdout",
     "output_type": "stream",
     "text": [
      "test_loss() = 1.9618493f0\n",
      "test_loss() = 1.92605f0\n",
      "test_loss() = 1.9288936f0\n",
      "test_loss() = 1.9169717f0\n",
      "test_loss() = 1.9096422f0\n",
      "test_loss() = 1.8996687f0\n",
      "test_loss() = 1.908998f0\n"
     ]
    },
    {
     "name": "stderr",
     "output_type": "stream",
     "text": [
      "┌ Info: Epoch 19\n",
      "└ @ Main C:\\Users\\User\\.julia\\packages\\Flux\\Fj3bt\\src\\optimise\\train.jl:121\n"
     ]
    },
    {
     "name": "stdout",
     "output_type": "stream",
     "text": [
      "test_loss() = 1.9891045f0\n",
      "test_loss() = 1.9449089f0\n",
      "test_loss() = 1.9189234f0\n",
      "test_loss() = 1.917009f0\n",
      "test_loss() = 1.910638f0\n",
      "test_loss() = 1.9128273f0\n"
     ]
    },
    {
     "name": "stderr",
     "output_type": "stream",
     "text": [
      "┌ Info: Epoch 20\n",
      "└ @ Main C:\\Users\\User\\.julia\\packages\\Flux\\Fj3bt\\src\\optimise\\train.jl:121\n"
     ]
    },
    {
     "name": "stdout",
     "output_type": "stream",
     "text": [
      "test_loss() = 1.9543934f0\n",
      "test_loss() = 1.935432f0\n",
      "test_loss() = 1.9143512f0\n",
      "test_loss() = 1.9121859f0\n",
      "test_loss() = 1.9112349f0\n",
      "test_loss() = 1.9176888f0\n",
      "test_loss() = 1.9162638f0\n"
     ]
    }
   ],
   "source": [
    "epochs = 20\n",
    "@epochs epochs Flux.train!(loss, params(model), train, ADAM(0.005), cb=throttle(evalcb, 10))"
   ]
  },
  {
   "cell_type": "markdown",
   "metadata": {},
   "source": [
    "## 模型評估"
   ]
  },
  {
   "cell_type": "code",
   "execution_count": 80,
   "metadata": {},
   "outputs": [
    {
     "data": {
      "text/plain": [
       "accuracy (generic function with 1 method)"
      ]
     },
     "execution_count": 80,
     "metadata": {},
     "output_type": "execute_result"
    }
   ],
   "source": [
    "accuracy(x, y) = mean(onecold(model(x)) .== onecold(y))"
   ]
  },
  {
   "cell_type": "code",
   "execution_count": 81,
   "metadata": {},
   "outputs": [
    {
     "data": {
      "text/plain": [
       "0.546"
      ]
     },
     "execution_count": 81,
     "metadata": {},
     "output_type": "execute_result"
    }
   ],
   "source": [
    "accuracy(test_X, test_y)"
   ]
  },
  {
   "cell_type": "code",
   "execution_count": null,
   "metadata": {},
   "outputs": [],
   "source": []
  }
 ],
 "metadata": {
  "kernelspec": {
   "display_name": "Julia 1.4.0",
   "language": "julia",
   "name": "julia-1.4"
  },
  "language_info": {
   "file_extension": ".jl",
   "mimetype": "application/julia",
   "name": "julia",
   "version": "1.4.0"
  }
 },
 "nbformat": 4,
 "nbformat_minor": 4
}
